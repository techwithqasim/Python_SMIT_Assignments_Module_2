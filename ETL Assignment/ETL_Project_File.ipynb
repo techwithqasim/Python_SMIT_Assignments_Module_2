{
 "cells": [
  {
   "cell_type": "raw",
   "id": "07d7c978",
   "metadata": {},
   "source": [
    "# !pip install icecream\n",
    "# if icecream not installed"
   ]
  },
  {
   "cell_type": "code",
   "execution_count": 50,
   "id": "942b5504",
   "metadata": {},
   "outputs": [],
   "source": [
    "from io import StringIO # Extract\n",
    "import requests # Extract\n",
    "from bs4 import BeautifulSoup # Extract\n",
    "import pandas as pd # Transformation\n",
    "import sqlite3 # Load\n",
    "from datetime import datetime # For Time of Log\n",
    "from icecream import ic"
   ]
  },
  {
   "cell_type": "code",
   "execution_count": 3,
   "id": "d602aa95",
   "metadata": {},
   "outputs": [
    {
     "name": "stdout",
     "output_type": "stream",
     "text": [
      "190\n",
      "270\n",
      "166.66666666666666\n",
      "180\n",
      "290\n",
      "171.0\n",
      "170\n",
      "310\n",
      "174.0\n",
      "160\n",
      "330\n",
      "175.66666666666666\n"
     ]
    }
   ],
   "source": [
    "a=200\n",
    "b=250\n",
    "c=300\n",
    "\n",
    "for i in range(1,5): \n",
    "    ans = a*b/c\n",
    "    a -= 10\n",
    "    b +=20\n",
    "    print(a)\n",
    "    print(b)\n",
    "    print(ans)"
   ]
  },
  {
   "cell_type": "code",
   "execution_count": 5,
   "id": "4f7dddad",
   "metadata": {},
   "outputs": [
    {
     "name": "stderr",
     "output_type": "stream",
     "text": [
      "ic| Error: Failed to access the underlying source code for analysis. Was ic() invoked in a REPL (e.g. from the command line), a frozen application (e.g. packaged with PyInstaller), or did the underlying source code change during execution?\n",
      "ic| Error: Failed to access the underlying source code for analysis. Was ic() invoked in a REPL (e.g. from the command line), a frozen application (e.g. packaged with PyInstaller), or did the underlying source code change during execution?\n",
      "ic| Error: Failed to access the underlying source code for analysis. Was ic() invoked in a REPL (e.g. from the command line), a frozen application (e.g. packaged with PyInstaller), or did the underlying source code change during execution?\n",
      "ic| Error: Failed to access the underlying source code for analysis. Was ic() invoked in a REPL (e.g. from the command line), a frozen application (e.g. packaged with PyInstaller), or did the underlying source code change during execution?\n"
     ]
    }
   ],
   "source": [
    "a=200\n",
    "b=250\n",
    "c=300\n",
    "\n",
    "for i in range(1,5): \n",
    "    ans = ic(a*b/c)\n",
    "    a -= 10\n",
    "    b +=20"
   ]
  },
  {
   "cell_type": "code",
   "execution_count": 14,
   "id": "3f237b70",
   "metadata": {},
   "outputs": [],
   "source": [
    "# Step 0\n",
    "def log_progress(message):\n",
    "    with open('./logs/code_log.txt', 'a') as f:\n",
    "        f.write(f'{datetime.now()}: {message}.\\n')"
   ]
  },
  {
   "cell_type": "code",
   "execution_count": 19,
   "id": "e6674b12",
   "metadata": {},
   "outputs": [],
   "source": [
    "# Step 1\n",
    "def extract(url, table_att):\n",
    "    soup = requests.get(url).text\n",
    "    web = BeautifulSoup(soup, 'html.parser')\n",
    "    table = web.find('span', string=table_att).find_next('table')\n",
    "    df = pd.read_html(StringIO(str(table)))[0]\n",
    "    \n",
    "    log_progress('Data Extracted Successfully from Wikipedia')\n",
    "    \n",
    "    return df"
   ]
  },
  {
   "cell_type": "code",
   "execution_count": 16,
   "id": "268468d9",
   "metadata": {},
   "outputs": [],
   "source": [
    "# Step 2\n",
    "def transformation(df, csv_path):\n",
    "    exchange_rate = pd.read_csv(csv_path, index_col = 0).to_dict()['Rate']\n",
    "    \n",
    "    \n",
    "    df['MC_GBP_Billion'] = round(df['Market cap (US$ billion)']*exchange_rate['GBP'],2)\n",
    "    df['MC_EUR_Billion'] = round(df['Market cap (US$ billion)']*exchange_rate['EUR'],2)\n",
    "    df['MC_INR_Billion'] = round(df['Market cap (US$ billion)']*exchange_rate['INR'],2)\n",
    "    \n",
    "    print(df['MC_EUR_Billion'][4])\n",
    "    \n",
    "    log_progress('Data Transformation Done Now, Step 2 Completed.')\n",
    "    \n",
    "    return df"
   ]
  },
  {
   "cell_type": "code",
   "execution_count": 9,
   "id": "597f1119",
   "metadata": {},
   "outputs": [],
   "source": [
    "# Step 3 Load\n",
    "# To CSV File\n",
    "def load_to_csv(df, out_path):\n",
    "    df.to_csv(out_path)\n",
    "    \n",
    "    log_progress('Data Loaded into the CSV File')"
   ]
  },
  {
   "cell_type": "code",
   "execution_count": 34,
   "id": "cc8324af",
   "metadata": {},
   "outputs": [],
   "source": [
    "# Step 3\n",
    "# SQLite\n",
    "def load_to_db(df, sql_conn, tn):\n",
    "    df.to_sql(tn, sql_conn, if_exists='replace', index=False)\n",
    "    \n",
    "    log_progress('Data Loaded into the SQLite Database')"
   ]
  },
  {
   "cell_type": "code",
   "execution_count": 35,
   "id": "4e00dba2",
   "metadata": {},
   "outputs": [
    {
     "name": "stdout",
     "output_type": "stream",
     "text": [
      "146.86\n",
      "   Rank                                Bank name  Market cap (US$ billion)  \\\n",
      "0     1                           JPMorgan Chase                    432.92   \n",
      "1     2                          Bank of America                    231.52   \n",
      "2     3  Industrial and Commercial Bank of China                    194.56   \n",
      "3     4               Agricultural Bank of China                    160.68   \n",
      "4     5                                HDFC Bank                    157.91   \n",
      "5     6                              Wells Fargo                    155.87   \n",
      "6     7                        HSBC Holdings PLC                    148.90   \n",
      "7     8                           Morgan Stanley                    140.83   \n",
      "8     9                  China Construction Bank                    139.82   \n",
      "9    10                            Bank of China                    136.81   \n",
      "\n",
      "   MC_GBP_Billion  MC_EUR_Billion  MC_INR_Billion  \n",
      "0          346.34          402.62        35910.71  \n",
      "1          185.22          215.31        19204.58  \n",
      "2          155.65          180.94        16138.75  \n",
      "3          128.54          149.43        13328.41  \n",
      "4          126.33          146.86        13098.63  \n",
      "5          124.70          144.96        12929.42  \n",
      "6          119.12          138.48        12351.26  \n",
      "7          112.66          130.97        11681.85  \n",
      "8          111.86          130.03        11598.07  \n",
      "9          109.45          127.23        11348.39  \n"
     ]
    }
   ],
   "source": [
    "if __name__ == '__main__':\n",
    "    url = 'https://web.archive.org/web/20230908091635/https://en.wikipedia.org/wiki/List_of_largest_banks'\n",
    "    output_csv_path = './output/Largest_banks_data.csv'\n",
    "    database_name = './output/Banks.db'\n",
    "    table_name = 'Largest_banks'\n",
    "    \n",
    "    log_progress('Preliminaries complete. Initiating ETL process')\n",
    "    \n",
    "    df = extract(url, 'By market capitalization')\n",
    "    log_progress('Extraction Completed')\n",
    "    \n",
    "    df = transformation(df, \"./input/exchange_rate.csv\")\n",
    "    log_progress('Data Transformed Successfully')\n",
    "    print(df)\n",
    "    \n",
    "    load_to_csv(df, output_csv_path)\n",
    "    log_progress('DataFrame has been uploaded into the CSV file on our PC')\n",
    "    \n",
    "    with sqlite3.connect(database_name) as conn:\n",
    "        load_to_db(df, conn, table_name)\n",
    "    log_progress('DataFrame has been uploaded into the SQLite Database Successfully')"
   ]
  }
 ],
 "metadata": {
  "kernelspec": {
   "display_name": "Python 3 (ipykernel)",
   "language": "python",
   "name": "python3"
  },
  "language_info": {
   "codemirror_mode": {
    "name": "ipython",
    "version": 3
   },
   "file_extension": ".py",
   "mimetype": "text/x-python",
   "name": "python",
   "nbconvert_exporter": "python",
   "pygments_lexer": "ipython3",
   "version": "3.11.5"
  }
 },
 "nbformat": 4,
 "nbformat_minor": 5
}
