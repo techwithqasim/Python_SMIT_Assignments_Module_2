{
 "cells": [
  {
   "cell_type": "markdown",
   "metadata": {
    "id": "UZXjlass3ARu"
   },
   "source": [
    "\n",
    "# **1. Basic Array Manipulation:**\n"
   ]
  },
  {
   "cell_type": "markdown",
   "metadata": {
    "id": "tDWPQRm23C7o"
   },
   "source": [
    "Create a 1D array with values ranging from 0 to 9.\n"
   ]
  },
  {
   "cell_type": "code",
   "execution_count": 1,
   "metadata": {
    "id": "OvGF66_02Q8H"
   },
   "outputs": [
    {
     "data": {
      "text/plain": [
       "array([0, 1, 2, 3, 4, 5, 6, 7, 8, 9])"
      ]
     },
     "execution_count": 1,
     "metadata": {},
     "output_type": "execute_result"
    }
   ],
   "source": [
    "import numpy as np\n",
    "\n",
    "# Method 1\n",
    "\n",
    "array_1d = np.array([0, 1, 2, 3, 4, 5, 6, 7, 8, 9])\n",
    "\n",
    "array_1d"
   ]
  },
  {
   "cell_type": "code",
   "execution_count": 2,
   "metadata": {},
   "outputs": [
    {
     "data": {
      "text/plain": [
       "array([0, 1, 2, 3, 4, 5, 6, 7, 8, 9])"
      ]
     },
     "execution_count": 2,
     "metadata": {},
     "output_type": "execute_result"
    }
   ],
   "source": [
    "# Method 2 , if huge number range\n",
    "\n",
    "array_1d_2 = np.arange(10)\n",
    "\n",
    "array_1d_2"
   ]
  },
  {
   "cell_type": "markdown",
   "metadata": {
    "id": "UYzIzPyB3Ne3"
   },
   "source": [
    "Reshape the array into a 3x3 matrix.\n",
    "\n",
    "Explore Reshape Function"
   ]
  },
  {
   "cell_type": "code",
   "execution_count": 3,
   "metadata": {
    "id": "RLlzDCBc2Q_P"
   },
   "outputs": [
    {
     "ename": "ValueError",
     "evalue": "cannot reshape array of size 10 into shape (3,3)",
     "output_type": "error",
     "traceback": [
      "\u001b[1;31m---------------------------------------------------------------------------\u001b[0m",
      "\u001b[1;31mValueError\u001b[0m                                Traceback (most recent call last)",
      "Cell \u001b[1;32mIn[3], line 1\u001b[0m\n\u001b[1;32m----> 1\u001b[0m array_2d \u001b[38;5;241m=\u001b[39m array_1d\u001b[38;5;241m.\u001b[39mreshape((\u001b[38;5;241m3\u001b[39m, \u001b[38;5;241m3\u001b[39m)) \u001b[38;5;66;03m# 1d array as size 10 as it holds ten numbers and is not compatible for 3x3 shape\u001b[39;00m\n\u001b[0;32m      3\u001b[0m array_2d\n",
      "\u001b[1;31mValueError\u001b[0m: cannot reshape array of size 10 into shape (3,3)"
     ]
    }
   ],
   "source": [
    "array_2d = array_1d.reshape((3, 3)) # 1d array as size 10 as it holds ten numbers and is not compatible for 3x3 shape\n",
    "\n",
    "array_2d"
   ]
  },
  {
   "cell_type": "code",
   "execution_count": 4,
   "metadata": {},
   "outputs": [
    {
     "data": {
      "text/plain": [
       "array([[0, 1, 2],\n",
       "       [3, 4, 5],\n",
       "       [6, 7, 8]])"
      ]
     },
     "execution_count": 4,
     "metadata": {},
     "output_type": "execute_result"
    }
   ],
   "source": [
    "# Need to Change size to 9 as 3x3 holds 9\n",
    "\n",
    "array_1d = np.arange(9)\n",
    "\n",
    "\n",
    "array_2d = array_1d.reshape((3, 3)) # Now it can be changed as it meets the criteria\n",
    "\n",
    "array_2d"
   ]
  },
  {
   "cell_type": "markdown",
   "metadata": {
    "id": "KmhRK9Ti3Phn"
   },
   "source": [
    "Access the element at the second row, second column.\n"
   ]
  },
  {
   "cell_type": "code",
   "execution_count": 5,
   "metadata": {
    "id": "Dk_a1D3A3ijN"
   },
   "outputs": [
    {
     "name": "stdout",
     "output_type": "stream",
     "text": [
      "Accessed Element:\n",
      " 4\n"
     ]
    }
   ],
   "source": [
    "element = array_2d[1, 1]\n",
    "\n",
    "print(\"Accessed Element:\\n\", element)"
   ]
  },
  {
   "cell_type": "markdown",
   "metadata": {
    "id": "NlH7N-fZ36wc"
   },
   "source": [
    "Perform element-wise addition, subtraction, multiplication, and division on two arrays [1, 2, 3] and [4, 5, 6].\n"
   ]
  },
  {
   "cell_type": "code",
   "execution_count": 6,
   "metadata": {
    "id": "PkgNSo1a37kP"
   },
   "outputs": [
    {
     "name": "stdout",
     "output_type": "stream",
     "text": [
      "Addition of Arrays\n",
      " [5 7 9]\n",
      "Subtraction of Arrays\n",
      " [-3 -3 -3]\n",
      "Multiplication of Arrays\n",
      " [ 4 10 18]\n",
      "Division of Arrays\n",
      " [0.25 0.4  0.5 ]\n"
     ]
    }
   ],
   "source": [
    "array1 = np.array([1, 2, 3])\n",
    "\n",
    "array2 = np.array([4, 5, 6])\n",
    "\n",
    "addition = array1 + array2\n",
    "print(\"Addition of Arrays\\n\", addition)\n",
    "\n",
    "subtraction = array1 - array2\n",
    "print(\"Subtraction of Arrays\\n\", subtraction)\n",
    "\n",
    "multiplication = array1 * array2\n",
    "print(\"Multiplication of Arrays\\n\", multiplication)\n",
    "\n",
    "division = array1 / array2\n",
    "print(\"Division of Arrays\\n\", division)"
   ]
  },
  {
   "cell_type": "markdown",
   "metadata": {
    "id": "JVt4zxkk8e0P"
   },
   "source": [
    "Find the sum, mean, and standard deviation of the array [1, 2, 3, 4, 5].\n"
   ]
  },
  {
   "cell_type": "code",
   "execution_count": 7,
   "metadata": {
    "id": "mQZxaZ0c8nhh"
   },
   "outputs": [
    {
     "name": "stdout",
     "output_type": "stream",
     "text": [
      "Sum of Array:\n",
      " 15\n",
      "Mean of Array:\n",
      " 3.0\n",
      "Standard Deviation of Array:\n",
      " 1.4142135623730951\n"
     ]
    }
   ],
   "source": [
    "array = np.array([1, 2, 3, 4, 5])\n",
    "\n",
    "sum_of_array = np.sum(array)\n",
    "print(\"Sum of Array:\\n\", sum_of_array)\n",
    "\n",
    "mean_of_array = np.mean(array)\n",
    "print(\"Mean of Array:\\n\", mean_of_array)\n",
    "\n",
    "standev_of_array = np.std(array)\n",
    "print(\"Standard Deviation of Array:\\n\", standev_of_array)"
   ]
  },
  {
   "cell_type": "markdown",
   "metadata": {
    "id": "ji2XvW0Z8nn5"
   },
   "source": [
    "Reshape the array [1, 2, 3, 4, 5, 6] into a 2x3 array.\n",
    "\n",
    "Explore Reshape"
   ]
  },
  {
   "cell_type": "code",
   "execution_count": 8,
   "metadata": {
    "id": "FNbYlzyI8rAx"
   },
   "outputs": [
    {
     "name": "stdout",
     "output_type": "stream",
     "text": [
      "Reshaped Array:\n",
      " [[1 2 3]\n",
      " [4 5 6]]\n"
     ]
    }
   ],
   "source": [
    "array_1 = np.array([1, 2, 3, 4, 5, 6])\n",
    "\n",
    "array_2 = array_1.reshape((2, 3))\n",
    "\n",
    "print(\"Reshaped Array:\\n\", array_2)"
   ]
  },
  {
   "cell_type": "markdown",
   "metadata": {
    "id": "OE-5o0th3SU4"
   },
   "source": [
    "\n",
    "# **2. Indexing and Slicing:**\n"
   ]
  },
  {
   "cell_type": "markdown",
   "metadata": {
    "id": "yqNKWBOl3an3"
   },
   "source": [
    "Create a 5x5 array with random integers.\n"
   ]
  },
  {
   "cell_type": "code",
   "execution_count": 9,
   "metadata": {
    "id": "G-kX4nme2RBn"
   },
   "outputs": [
    {
     "name": "stdout",
     "output_type": "stream",
     "text": [
      "Random Created Array of 5x5 Matrix:\n",
      " [[78 35  3 55 81]\n",
      " [39 59 67 26 13]\n",
      " [45 73 39 16 66]\n",
      " [21 94 16 44 61]\n",
      " [24  3 77 13 79]]\n"
     ]
    }
   ],
   "source": [
    "random_array = np.random.randint(0, 100, size=(5, 5))\n",
    "\n",
    "print(\"Random Created Array of 5x5 Matrix:\\n\", random_array)"
   ]
  },
  {
   "cell_type": "markdown",
   "metadata": {
    "id": "LlilKAMF3bMX"
   },
   "source": [
    "Replace all values in the sub-array with a specific value.\n"
   ]
  },
  {
   "cell_type": "code",
   "execution_count": 10,
   "metadata": {
    "id": "gShfqRGm2REI"
   },
   "outputs": [
    {
     "name": "stdout",
     "output_type": "stream",
     "text": [
      "Replaced Values Array of 5x5 Matrix:\n",
      " [[78 35  3 55 81]\n",
      " [39  7  7  7 13]\n",
      " [45  7  7  7 66]\n",
      " [21  7  7  7 61]\n",
      " [24  3 77 13 79]]\n"
     ]
    }
   ],
   "source": [
    "# Set slice variable for easy slice and set specific value to change\n",
    "sub_array_slice = (slice(1,4), slice(1,4))\n",
    "specific_value = 7\n",
    "\n",
    "new_specificvalue_subarray = random_array\n",
    "\n",
    "new_specificvalue_subarray[sub_array_slice] = specific_value\n",
    "\n",
    "print(\"Replaced Values Array of 5x5 Matrix:\\n\", new_specificvalue_subarray)"
   ]
  },
  {
   "cell_type": "markdown",
   "metadata": {
    "id": "1kUY7u023gfF"
   },
   "source": [
    "Extract the subarray [[3, 4], [7, 8]] from the array [[1, 2], [3, 4], [5, 6], [7, 8]].\n"
   ]
  },
  {
   "cell_type": "code",
   "execution_count": 11,
   "metadata": {
    "id": "UmgqjBwC3_4V"
   },
   "outputs": [
    {
     "name": "stdout",
     "output_type": "stream",
     "text": [
      "Extracted Sub-array:\n",
      " [[3 4]\n",
      " [7 8]]\n"
     ]
    }
   ],
   "source": [
    "array_n = np.array([[1, 2], [3, 4], [5, 6], [7, 8]])\n",
    "\n",
    "array_n_subarray = array_n[[1, 3], :]\n",
    "\n",
    "print(\"Extracted Sub-array:\\n\", array_n_subarray)"
   ]
  },
  {
   "cell_type": "markdown",
   "metadata": {
    "id": "vPrCHS_O3jK9"
   },
   "source": [
    "\n",
    "# **3. Broadcasting:**"
   ]
  },
  {
   "cell_type": "markdown",
   "metadata": {
    "id": "W3WUM5Cc3phc"
   },
   "source": [
    "Create a 2D array of shape (3, 3) with values from 0 to 2.\n"
   ]
  },
  {
   "cell_type": "code",
   "execution_count": 12,
   "metadata": {
    "id": "PxJrAlFW2RGw"
   },
   "outputs": [
    {
     "name": "stdout",
     "output_type": "stream",
     "text": [
      "2D array of Shape (3, 3) with values from 0 to 2 at Random Point:\n",
      " [[1 0 0]\n",
      " [1 0 0]\n",
      " [0 2 2]]\n"
     ]
    }
   ],
   "source": [
    "# Method 1 , as randomly as before\n",
    "arr_2d = np.random.randint(0, 3, size=(3, 3))\n",
    "\n",
    "print(\"2D array of Shape (3, 3) with values from 0 to 2 at Random Point:\\n\", arr_2d)"
   ]
  },
  {
   "cell_type": "code",
   "execution_count": 13,
   "metadata": {},
   "outputs": [
    {
     "name": "stdout",
     "output_type": "stream",
     "text": [
      "2D array of Shape (3, 3) with values from 0 to 2:\n",
      " [[0 1 2]\n",
      " [0 1 2]\n",
      " [0 1 2]]\n"
     ]
    }
   ],
   "source": [
    "# Method 2, as in position\n",
    "new_array = np.array([0, 1, 2])\n",
    "\n",
    "arr_2d = np.tile(new_array, (3, 1))\n",
    "\n",
    "print(\"2D array of Shape (3, 3) with values from 0 to 2:\\n\", arr_2d)"
   ]
  },
  {
   "cell_type": "markdown",
   "metadata": {
    "id": "J5XPwN3A3rXG"
   },
   "source": [
    "Add a 1D array of shape (3,) to each row of the 2D array using broadcasting.\n"
   ]
  },
  {
   "cell_type": "code",
   "execution_count": 14,
   "metadata": {
    "id": "k4FM2g_c2RJv"
   },
   "outputs": [
    {
     "name": "stdout",
     "output_type": "stream",
     "text": [
      "Result of Addition Broadcasting:\n",
      " [[1 3 5]\n",
      " [1 3 5]\n",
      " [1 3 5]]\n"
     ]
    }
   ],
   "source": [
    "arr_1d = np.array([1, 2, 3])\n",
    "\n",
    "addition_of_arraybroadcasting = arr_2d + arr_1d\n",
    "\n",
    "print(\"Result of Addition Broadcasting:\\n\", addition_of_arraybroadcasting)"
   ]
  },
  {
   "cell_type": "markdown",
   "metadata": {
    "id": "9CbtQS3w4PA3"
   },
   "source": [
    "# **4. Concatenation and Splitting**"
   ]
  },
  {
   "cell_type": "markdown",
   "metadata": {
    "id": "yMg_umVy4ILG"
   },
   "source": [
    "\n",
    "1.   Create two 2D arrays of shape (3, 3) with random integers.\n",
    "2.   Concatenate them horizontally and vertically.\n",
    "3.   Split the concatenated arrays back into the original arrays.\n"
   ]
  },
  {
   "cell_type": "code",
   "execution_count": 15,
   "metadata": {
    "id": "wXiCa2Sn8XHP"
   },
   "outputs": [
    {
     "name": "stdout",
     "output_type": "stream",
     "text": [
      "2D Array 1 of Shape (3, 3) with Random Integers:\n",
      " [[15 34 30]\n",
      " [49  4 31]\n",
      " [46 18 40]]\n",
      "2D Array 2 of Shape (3, 3) with Random Integers:\n",
      " [[ 3 13 20]\n",
      " [33  7 18]\n",
      " [25  0 17]]\n"
     ]
    }
   ],
   "source": [
    "random_array_1 = np.random.randint(0, 50, size=(3,3))\n",
    "\n",
    "random_array_2 = np.random.randint(0, 50, size=(3,3))\n",
    "\n",
    "print(\"2D Array 1 of Shape (3, 3) with Random Integers:\\n\", random_array_1)\n",
    "\n",
    "print(\"2D Array 2 of Shape (3, 3) with Random Integers:\\n\", random_array_2)"
   ]
  },
  {
   "cell_type": "code",
   "execution_count": 16,
   "metadata": {
    "id": "yAiYe6vj8XSW"
   },
   "outputs": [
    {
     "name": "stdout",
     "output_type": "stream",
     "text": [
      "\n",
      "Horizontally concatenated Array:\n",
      " [[15 34 30  3 13 20]\n",
      " [49  4 31 33  7 18]\n",
      " [46 18 40 25  0 17]]\n",
      "\n",
      "Vertically concatenated Array:\n",
      " [[15 34 30]\n",
      " [49  4 31]\n",
      " [46 18 40]\n",
      " [ 3 13 20]\n",
      " [33  7 18]\n",
      " [25  0 17]]\n"
     ]
    }
   ],
   "source": [
    "array_concate_horizontally = np.hstack((random_array_1, random_array_2))\n",
    "\n",
    "array_concate_vertically = np.vstack((random_array_1, random_array_2))\n",
    "\n",
    "print(\"\\nHorizontally concatenated Array:\\n\", array_concate_horizontally)\n",
    "\n",
    "print(\"\\nVertically concatenated Array:\\n\", array_concate_vertically)"
   ]
  },
  {
   "cell_type": "code",
   "execution_count": 17,
   "metadata": {
    "id": "lgMsjt-J8XZK"
   },
   "outputs": [
    {
     "name": "stdout",
     "output_type": "stream",
     "text": [
      "\n",
      "First array after splitback Horizontally:\n",
      " [[15 34 30]\n",
      " [49  4 31]\n",
      " [46 18 40]]\n",
      "\n",
      "Second array after splitback Horizontally:\n",
      " [[ 3 13 20]\n",
      " [33  7 18]\n",
      " [25  0 17]]\n",
      "\n",
      "First array after splitback Vertically:\n",
      " [[15 34 30]\n",
      " [49  4 31]\n",
      " [46 18 40]]\n",
      "\n",
      "Second array after splitback Vertically:\n",
      " [[ 3 13 20]\n",
      " [33  7 18]\n",
      " [25  0 17]]\n"
     ]
    }
   ],
   "source": [
    "split_concate_horizontally = np.hsplit(array_concate_horizontally, 2)\n",
    "\n",
    "print(\"\\nFirst array after splitback Horizontally:\\n\", split_concate_horizontally[0])\n",
    "print(\"\\nSecond array after splitback Horizontally:\\n\", split_concate_horizontally[1])\n",
    "\n",
    "split_concate_vertically = np.vsplit(array_concate_vertically, 2)\n",
    "\n",
    "print(\"\\nFirst array after splitback Vertically:\\n\", split_concate_vertically[0])\n",
    "print(\"\\nSecond array after splitback Vertically:\\n\", split_concate_vertically[1])"
   ]
  },
  {
   "cell_type": "markdown",
   "metadata": {
    "id": "2CliNLH8YG3j"
   },
   "source": [
    "# **Bonus Question**\n",
    "\n",
    "Find mode of this array  = [1,2,1,2,3,4,5,6,8,9,1,2,2,22,21,1,1,1,1,2,5]\n",
    "\n",
    "Hint: Use count and also loop"
   ]
  },
  {
   "cell_type": "code",
   "execution_count": 18,
   "metadata": {
    "id": "JGe2Qe3SYaHq"
   },
   "outputs": [
    {
     "name": "stdout",
     "output_type": "stream",
     "text": [
      "Original Array:\n",
      " [ 1  2  1  2  3  4  5  6  8  9  1  2  2 22 21  1  1  1  1  2  5]\n",
      "\n",
      "Count of Numbers:\n",
      " {1: 7, 2: 5, 3: 1, 4: 1, 5: 2, 6: 1, 8: 1, 9: 1, 22: 1, 21: 1}\n",
      "\n",
      "Mode:\n",
      " [1]\n",
      "\n",
      "Count of Mode:\n",
      " 7\n"
     ]
    }
   ],
   "source": [
    "array = np.array([1, 2, 1, 2, 3, 4, 5, 6, 8, 9, 1, 2, 2, 22, 21, 1, 1, 1, 1, 2, 5])\n",
    "\n",
    "number_counts = {}\n",
    "\n",
    "for num in array:\n",
    "    if num in number_counts:\n",
    "        number_counts[num] += 1\n",
    "    else:\n",
    "        number_counts[num] = 1\n",
    "        \n",
    "number_with_max_count = max(number_counts.values())\n",
    "\n",
    "mode = [key for key, count in number_counts.items() if count == number_with_max_count]\n",
    "\n",
    "print(\"Original Array:\\n\", array)\n",
    "print(\"\\nCount of Numbers:\\n\", number_counts)\n",
    "print(\"\\nMode:\\n\", mode)\n",
    "print(\"\\nCount of Mode:\\n\", number_with_max_count)"
   ]
  },
  {
   "cell_type": "markdown",
   "metadata": {
    "id": "1t9n5GQdYbHN"
   },
   "source": [
    "# **Notes**\n",
    "\n",
    "\n",
    "1.   All the Questions carry Equal Points (2 points)\n",
    "\n",
    "2.   Bonus Question carry 5 points\n",
    "\n",
    "3.   Review lecture for any query\n",
    "\n",
    "Good Luck!\n",
    "\n"
   ]
  }
 ],
 "metadata": {
  "colab": {
   "provenance": []
  },
  "kernelspec": {
   "display_name": "Python 3 (ipykernel)",
   "language": "python",
   "name": "python3"
  },
  "language_info": {
   "codemirror_mode": {
    "name": "ipython",
    "version": 3
   },
   "file_extension": ".py",
   "mimetype": "text/x-python",
   "name": "python",
   "nbconvert_exporter": "python",
   "pygments_lexer": "ipython3",
   "version": "3.11.5"
  }
 },
 "nbformat": 4,
 "nbformat_minor": 1
}
